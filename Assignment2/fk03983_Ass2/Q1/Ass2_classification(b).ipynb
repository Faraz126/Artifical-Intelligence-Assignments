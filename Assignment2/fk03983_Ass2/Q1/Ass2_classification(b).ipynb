{
  "nbformat": 4,
  "nbformat_minor": 0,
  "metadata": {
    "colab": {
      "name": "Ass2_classification(b).ipynb",
      "provenance": []
    },
    "kernelspec": {
      "display_name": "Python 3",
      "language": "python",
      "name": "python3"
    },
    "language_info": {
      "codemirror_mode": {
        "name": "ipython",
        "version": 3
      },
      "file_extension": ".py",
      "mimetype": "text/x-python",
      "name": "python",
      "nbconvert_exporter": "python",
      "pygments_lexer": "ipython3",
      "version": "3.7.4"
    }
  },
  "cells": [
    {
      "cell_type": "code",
      "metadata": {
        "colab_type": "code",
        "id": "I-dXPkfDz9kJ",
        "colab": {}
      },
      "source": [
        "import sklearn\n",
        "import numpy as np\n",
        "import pandas as pd\n",
        "from sklearn.neural_network import MLPClassifier\n",
        "from sklearn.metrics import *\n",
        "from sklearn.model_selection import train_test_split\n",
        "from sklearn.preprocessing import StandardScaler\n",
        "from sklearn.datasets import make_moons, make_circles, make_classification\n",
        "from sklearn.neural_network import MLPClassifier\n",
        "from sklearn.neighbors import KNeighborsClassifier\n",
        "from sklearn.svm import SVC\n",
        "from sklearn.gaussian_process import GaussianProcessClassifier\n",
        "from sklearn.gaussian_process.kernels import RBF\n",
        "from sklearn.tree import DecisionTreeClassifier\n",
        "from sklearn.ensemble import RandomForestClassifier, AdaBoostClassifier, GradientBoostingClassifier\n",
        "from sklearn.naive_bayes import GaussianNB\n",
        "from sklearn.discriminant_analysis import QuadraticDiscriminantAnalysis\n",
        "\n"
      ],
      "execution_count": 0,
      "outputs": []
    },
    {
      "cell_type": "code",
      "metadata": {
        "colab_type": "code",
        "id": "5f6dBF0xz9kn",
        "colab": {}
      },
      "source": [
        "def load_file(fileName):\n",
        "    dataset = pd.read_csv(fileName, header=0, sep=\",\", encoding=\"unicode_escape\", error_bad_lines = False)\n",
        "    dataset = dataset.fillna(dataset.mean())\n",
        "    return dataset"
      ],
      "execution_count": 0,
      "outputs": []
    },
    {
      "cell_type": "code",
      "metadata": {
        "colab_type": "code",
        "id": "AF2nkYMbz9lF",
        "colab": {}
      },
      "source": [
        "def learn_model(data,target):\n",
        "    classifier =  [MLPClassifier(alpha=1, max_iter=1000), KNeighborsClassifier(10), DecisionTreeClassifier(max_depth=25), RandomForestClassifier(max_depth=50, n_estimators=150, max_features=1),GradientBoostingClassifier()]\n",
        "    for i in classifier:\n",
        "      print(i)\n",
        "      i.fit(data, target)\n",
        "    return classifier"
      ],
      "execution_count": 0,
      "outputs": []
    },
    {
      "cell_type": "code",
      "metadata": {
        "colab_type": "code",
        "id": "rYIzxG5Zz9lW",
        "colab": {}
      },
      "source": [
        "def classify(classifier, testdata):\n",
        "    predicted_val = []\n",
        "    for i in classifier:\n",
        "      predicted_val.append(i.predict(testdata))\n",
        "    return predicted_val"
      ],
      "execution_count": 0,
      "outputs": []
    },
    {
      "cell_type": "code",
      "metadata": {
        "colab_type": "code",
        "id": "bvZISzp2z9lp",
        "colab": {}
      },
      "source": [
        "def evaluate(actual_class, predicted_class):\n",
        "    names = [\"MLP\", \"KNN\", \"Decision Tree\", \"Random Forest\", \"Gradient Boosting\"]\n",
        "    #precision, recall, thresholds = average_precision_score(actual_class, predicted_class)\n",
        "    #print(\"PRECISION:\", precision)\n",
        "    #print(\"RECALL:\", recall)\n",
        "    for index, i in enumerate(predicted_class):\n",
        "      accuracy = accuracy_score(actual_class, i)\n",
        "      print(\"Accuracy of\", names[index], \": \", accuracy)\n",
        "      #print(confusion_matrix(actual_class, i))\n",
        "    "
      ],
      "execution_count": 0,
      "outputs": []
    },
    {
      "cell_type": "code",
      "metadata": {
        "colab_type": "code",
        "id": "2SAtDY-Pz9l8",
        "outputId": "e88c8136-0a58-4dda-ccd7-04023e807144",
        "colab": {
          "base_uri": "https://localhost:8080/",
          "height": 101
        }
      },
      "source": [
        "test_file = \"fashion-mnist_test.csv\"\n",
        "train_file = \"fashion-mnist_train.csv\"\n",
        "print(\"loading train data\")\n",
        "train_data = load_file(train_file)\n",
        "\n",
        "print(\"loaded\")\n",
        "print(\"loading test data\")\n",
        "test_data = load_file(test_file)\n",
        "print(\"loaded\")\n",
        "print(\"Spliting data into test and train\")\n",
        "trainY,trainX = train_data.iloc[:,0].fillna(\" \"), train_data.iloc[:,1:]\n",
        "testY,testX = test_data.iloc[:,0].fillna(\" \"), test_data.iloc[:,1:]"
      ],
      "execution_count": 12,
      "outputs": [
        {
          "output_type": "stream",
          "text": [
            "loading train data\n",
            "loaded\n",
            "loading test data\n",
            "loaded\n",
            "Spliting data into test and train\n"
          ],
          "name": "stdout"
        }
      ]
    },
    {
      "cell_type": "code",
      "metadata": {
        "colab_type": "code",
        "id": "VUcAyz81z9mX",
        "outputId": "519db085-6526-4016-85f3-7c4eb1d3ff75",
        "colab": {
          "base_uri": "https://localhost:8080/",
          "height": 605
        }
      },
      "source": [
        "print(\"Starting NN\")\n",
        "clf = learn_model(trainX, trainY)\n",
        "print(\"ended learning\")\n"
      ],
      "execution_count": 13,
      "outputs": [
        {
          "output_type": "stream",
          "text": [
            "Starting NN\n",
            "MLPClassifier(activation='relu', alpha=1, batch_size='auto', beta_1=0.9,\n",
            "              beta_2=0.999, early_stopping=False, epsilon=1e-08,\n",
            "              hidden_layer_sizes=(100,), learning_rate='constant',\n",
            "              learning_rate_init=0.001, max_iter=1000, momentum=0.9,\n",
            "              n_iter_no_change=10, nesterovs_momentum=True, power_t=0.5,\n",
            "              random_state=None, shuffle=True, solver='adam', tol=0.0001,\n",
            "              validation_fraction=0.1, verbose=False, warm_start=False)\n",
            "KNeighborsClassifier(algorithm='auto', leaf_size=30, metric='minkowski',\n",
            "                     metric_params=None, n_jobs=None, n_neighbors=10, p=2,\n",
            "                     weights='uniform')\n",
            "DecisionTreeClassifier(class_weight=None, criterion='gini', max_depth=25,\n",
            "                       max_features=None, max_leaf_nodes=None,\n",
            "                       min_impurity_decrease=0.0, min_impurity_split=None,\n",
            "                       min_samples_leaf=1, min_samples_split=2,\n",
            "                       min_weight_fraction_leaf=0.0, presort=False,\n",
            "                       random_state=None, splitter='best')\n",
            "RandomForestClassifier(bootstrap=True, class_weight=None, criterion='gini',\n",
            "                       max_depth=50, max_features=1, max_leaf_nodes=None,\n",
            "                       min_impurity_decrease=0.0, min_impurity_split=None,\n",
            "                       min_samples_leaf=1, min_samples_split=2,\n",
            "                       min_weight_fraction_leaf=0.0, n_estimators=150,\n",
            "                       n_jobs=None, oob_score=False, random_state=None,\n",
            "                       verbose=0, warm_start=False)\n",
            "GradientBoostingClassifier(criterion='friedman_mse', init=None,\n",
            "                           learning_rate=0.1, loss='deviance', max_depth=3,\n",
            "                           max_features=None, max_leaf_nodes=None,\n",
            "                           min_impurity_decrease=0.0, min_impurity_split=None,\n",
            "                           min_samples_leaf=1, min_samples_split=2,\n",
            "                           min_weight_fraction_leaf=0.0, n_estimators=100,\n",
            "                           n_iter_no_change=None, presort='auto',\n",
            "                           random_state=None, subsample=1.0, tol=0.0001,\n",
            "                           validation_fraction=0.1, verbose=0,\n",
            "                           warm_start=False)\n",
            "ended learning\n"
          ],
          "name": "stdout"
        }
      ]
    },
    {
      "cell_type": "code",
      "metadata": {
        "colab_type": "code",
        "id": "Yf57VTfuz9mo",
        "outputId": "b7e2a76c-972e-4d64-b633-6aa1ecff4ed8",
        "colab": {
          "base_uri": "https://localhost:8080/",
          "height": 34
        }
      },
      "source": [
        "print(\"Predicting\")\n",
        "predicted = classify(clf, testX)"
      ],
      "execution_count": 14,
      "outputs": [
        {
          "output_type": "stream",
          "text": [
            "Predicting\n"
          ],
          "name": "stdout"
        }
      ]
    },
    {
      "cell_type": "code",
      "metadata": {
        "colab_type": "code",
        "id": "TUWny4z1z9nA",
        "outputId": "5d752be8-a1a7-428e-bc17-f615343e32b7",
        "colab": {
          "base_uri": "https://localhost:8080/",
          "height": 118
        }
      },
      "source": [
        "print(\"evaluating\")\n",
        "evaluate(testY, predicted)"
      ],
      "execution_count": 15,
      "outputs": [
        {
          "output_type": "stream",
          "text": [
            "evaluating\n",
            "Accuracy of MLP :  0.809322033898305\n",
            "Accuracy of KNN :  0.8021186440677966\n",
            "Accuracy of Decision Tree :  0.7311440677966101\n",
            "Accuracy of Random Forest :  0.8220338983050848\n",
            "Accuracy of Gradient Boosting :  0.8495762711864406\n"
          ],
          "name": "stdout"
        }
      ]
    },
    {
      "cell_type": "code",
      "metadata": {
        "colab_type": "code",
        "id": "6qrvG6vWz9nS",
        "colab": {}
      },
      "source": [
        ""
      ],
      "execution_count": 0,
      "outputs": []
    }
  ]
}