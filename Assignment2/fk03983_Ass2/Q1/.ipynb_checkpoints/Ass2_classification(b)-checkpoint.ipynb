{
 "cells": [
  {
   "cell_type": "code",
   "execution_count": 0,
   "metadata": {
    "colab": {},
    "colab_type": "code",
    "id": "I-dXPkfDz9kJ"
   },
   "outputs": [],
   "source": [
    "import sklearn\n",
    "import numpy as np\n",
    "import pandas as pd\n",
    "from sklearn.neural_network import MLPClassifier\n",
    "from sklearn.metrics import *\n",
    "from sklearn.model_selection import train_test_split\n",
    "from sklearn.preprocessing import StandardScaler\n",
    "from sklearn.datasets import make_moons, make_circles, make_classification\n",
    "from sklearn.neural_network import MLPClassifier\n",
    "from sklearn.neighbors import KNeighborsClassifier\n",
    "from sklearn.svm import SVC\n",
    "from sklearn.gaussian_process import GaussianProcessClassifier\n",
    "from sklearn.gaussian_process.kernels import RBF\n",
    "from sklearn.tree import DecisionTreeClassifier\n",
    "from sklearn.ensemble import RandomForestClassifier, AdaBoostClassifier\n",
    "from sklearn.naive_bayes import GaussianNB\n",
    "from sklearn.discriminant_analysis import QuadraticDiscriminantAnalysis\n",
    "\n"
   ]
  },
  {
   "cell_type": "code",
   "execution_count": 0,
   "metadata": {
    "colab": {},
    "colab_type": "code",
    "id": "5f6dBF0xz9kn"
   },
   "outputs": [],
   "source": [
    "def load_file(fileName):\n",
    "    dataset = pd.read_csv(fileName, header=0, sep=\",\", encoding=\"unicode_escape\", error_bad_lines = False)\n",
    "    dataset = dataset.fillna(dataset.mean())\n",
    "    return dataset"
   ]
  },
  {
   "cell_type": "code",
   "execution_count": 0,
   "metadata": {
    "colab": {},
    "colab_type": "code",
    "id": "AF2nkYMbz9lF"
   },
   "outputs": [],
   "source": [
    "def learn_model(data,target):\n",
    "    classifier =  [MLPClassifier(alpha=1, max_iter=1000), KNeighborsClassifier(10), DecisionTreeClassifier(max_depth=25), RandomForestClassifier(max_depth=50, n_estimators=150, max_features=1),AdaBoostClassifier()]\n",
    "    for i in classifier:\n",
    "      print(i)\n",
    "      i.fit(data, target)\n",
    "    return classifier"
   ]
  },
  {
   "cell_type": "code",
   "execution_count": 0,
   "metadata": {
    "colab": {},
    "colab_type": "code",
    "id": "rYIzxG5Zz9lW"
   },
   "outputs": [],
   "source": [
    "def classify(classifier, testdata):\n",
    "    predicted_val = []\n",
    "    for i in classifier:\n",
    "      predicted_val.append(i.predict(testdata))\n",
    "    return predicted_val"
   ]
  },
  {
   "cell_type": "code",
   "execution_count": 0,
   "metadata": {
    "colab": {},
    "colab_type": "code",
    "id": "bvZISzp2z9lp"
   },
   "outputs": [],
   "source": [
    "def evaluate(actual_class, predicted_class):\n",
    "    \n",
    "    #precision, recall, thresholds = average_precision_score(actual_class, predicted_class)\n",
    "    #print(\"PRECISION:\", precision)\n",
    "    #print(\"RECALL:\", recall)\n",
    "    for i in predicted_class:\n",
    "      accuracy = accuracy_score(actual_class, i)\n",
    "      print(\"Accuracy:\", accuracy)\n",
    "      print(confusion_matrix(actual_class, i))\n",
    "    "
   ]
  },
  {
   "cell_type": "code",
   "execution_count": 19,
   "metadata": {
    "colab": {
     "base_uri": "https://localhost:8080/",
     "height": 101
    },
    "colab_type": "code",
    "id": "2SAtDY-Pz9l8",
    "outputId": "a76a58ea-8b20-4bfe-d1ed-431729df2fa6"
   },
   "outputs": [
    {
     "name": "stdout",
     "output_type": "stream",
     "text": [
      "loading train data\n",
      "loaded\n",
      "loading test data\n",
      "loaded\n",
      "Spliting data into test and train\n"
     ]
    }
   ],
   "source": [
    "test_file = \"fashion-mnist_test.csv\"\n",
    "train_file = \"fashion-mnist_train.csv\"\n",
    "print(\"loading train data\")\n",
    "train_data = load_file(train_file)\n",
    "\n",
    "print(\"loaded\")\n",
    "print(\"loading test data\")\n",
    "test_data = load_file(test_file)\n",
    "print(\"loaded\")\n",
    "print(\"Spliting data into test and train\")\n",
    "trainY,trainX = train_data.iloc[:,0].fillna(\" \"), train_data.iloc[:,1:]\n",
    "testY,testX = test_data.iloc[:,0].fillna(\" \"), test_data.iloc[:,1:]"
   ]
  },
  {
   "cell_type": "code",
   "execution_count": 20,
   "metadata": {
    "colab": {
     "base_uri": "https://localhost:8080/",
     "height": 470
    },
    "colab_type": "code",
    "id": "VUcAyz81z9mX",
    "outputId": "ad9ebd61-a466-4e2b-9e5c-995377168b34"
   },
   "outputs": [
    {
     "name": "stdout",
     "output_type": "stream",
     "text": [
      "Starting NN\n",
      "MLPClassifier(activation='relu', alpha=1, batch_size='auto', beta_1=0.9,\n",
      "              beta_2=0.999, early_stopping=False, epsilon=1e-08,\n",
      "              hidden_layer_sizes=(100,), learning_rate='constant',\n",
      "              learning_rate_init=0.001, max_iter=1000, momentum=0.9,\n",
      "              n_iter_no_change=10, nesterovs_momentum=True, power_t=0.5,\n",
      "              random_state=None, shuffle=True, solver='adam', tol=0.0001,\n",
      "              validation_fraction=0.1, verbose=False, warm_start=False)\n",
      "KNeighborsClassifier(algorithm='auto', leaf_size=30, metric='minkowski',\n",
      "                     metric_params=None, n_jobs=None, n_neighbors=10, p=2,\n",
      "                     weights='uniform')\n",
      "DecisionTreeClassifier(class_weight=None, criterion='gini', max_depth=25,\n",
      "                       max_features=None, max_leaf_nodes=None,\n",
      "                       min_impurity_decrease=0.0, min_impurity_split=None,\n",
      "                       min_samples_leaf=1, min_samples_split=2,\n",
      "                       min_weight_fraction_leaf=0.0, presort=False,\n",
      "                       random_state=None, splitter='best')\n",
      "RandomForestClassifier(bootstrap=True, class_weight=None, criterion='gini',\n",
      "                       max_depth=5, max_features=1, max_leaf_nodes=None,\n",
      "                       min_impurity_decrease=0.0, min_impurity_split=None,\n",
      "                       min_samples_leaf=1, min_samples_split=2,\n",
      "                       min_weight_fraction_leaf=0.0, n_estimators=20,\n",
      "                       n_jobs=None, oob_score=False, random_state=None,\n",
      "                       verbose=0, warm_start=False)\n",
      "AdaBoostClassifier(algorithm='SAMME.R', base_estimator=None, learning_rate=1.0,\n",
      "                   n_estimators=50, random_state=None)\n",
      "ended learning\n"
     ]
    }
   ],
   "source": [
    "print(\"Starting NN\")\n",
    "clf = learn_model(trainX, trainY)\n",
    "print(\"ended learning\")\n"
   ]
  },
  {
   "cell_type": "code",
   "execution_count": 21,
   "metadata": {
    "colab": {
     "base_uri": "https://localhost:8080/",
     "height": 34
    },
    "colab_type": "code",
    "id": "Yf57VTfuz9mo",
    "outputId": "32dbb054-242e-43bb-d1bf-4c5ab07ada7a"
   },
   "outputs": [
    {
     "name": "stdout",
     "output_type": "stream",
     "text": [
      "Predicting\n"
     ]
    }
   ],
   "source": [
    "print(\"Predicting\")\n",
    "predicted = classify(clf, testX)"
   ]
  },
  {
   "cell_type": "code",
   "execution_count": 22,
   "metadata": {
    "colab": {
     "base_uri": "https://localhost:8080/",
     "height": 958
    },
    "colab_type": "code",
    "id": "TUWny4z1z9nA",
    "outputId": "365c60a1-981b-45a9-cb0a-a0406255b5bc"
   },
   "outputs": [
    {
     "name": "stdout",
     "output_type": "stream",
     "text": [
      "evaluating\n",
      "Accuracy: 0.8601\n",
      "[[791   2  15  37   0   1 138   0  16   0]\n",
      " [  6 967   6  14   0   0   6   0   1   0]\n",
      " [  6   2 840  16  66   0  63   0   7   0]\n",
      " [ 20  17  10 898  19   0  30   0   6   0]\n",
      " [  0   2 145  44 718   0  86   0   5   0]\n",
      " [  0   1   0   3   1 908   1  38   9  39]\n",
      " [131   1 125  27  50   0 645   0  21   0]\n",
      " [  1   0   0   0   0  26   0 939   2  32]\n",
      " [  3   0   7   2   2   3  11   2 970   0]\n",
      " [  0   0   0   0   0   3   0  70   2 925]]\n",
      "Accuracy: 0.8443\n",
      "[[867   1  25  16   4   0  76   2   9   0]\n",
      " [  8 955   7  18   3   0   9   0   0   0]\n",
      " [ 16   0 794   7  98   0  83   0   2   0]\n",
      " [ 36  11  11 871  39   0  32   0   0   0]\n",
      " [  2   1  89  23 782   0 100   0   3   0]\n",
      " [  1   0   0   1   0 790   7 120   8  73]\n",
      " [232   2 114  19  73   0 549   0  11   0]\n",
      " [  0   0   0   0   0   8   0 945   0  47]\n",
      " [  2   1  21   4   5   2  17  12 933   3]\n",
      " [  0   0   0   0   0   3   0  40   0 957]]\n",
      "Accuracy: 0.7865\n",
      "[[737  12  15  42  11   4 162   2  15   0]\n",
      " [  9 950   1  28   2   2   6   0   2   0]\n",
      " [ 25   2 667  24 136   2 130   1  12   1]\n",
      " [ 62  29  26 792  38   3  41   1   8   0]\n",
      " [  7   6 170  42 667   2  94   0  11   1]\n",
      " [  3   1   2   6   0 874   4  67  14  29]\n",
      " [162  11 117  51 100   2 538   0  18   1]\n",
      " [  0   2   0   0   0  54   1 873   3  67]\n",
      " [ 14   2  27  11  18  17  25  12 869   5]\n",
      " [  1   0   0   2   0  19   2  70   8 898]]\n",
      "Accuracy: 0.7379\n",
      "[[804   7  33 107   2   3  13   1  30   0]\n",
      " [ 10 946  19  21   0   1   2   0   1   0]\n",
      " [ 32   2 772  13 116   3  38   1  23   0]\n",
      " [ 99 151   9 724   2   2  11   0   2   0]\n",
      " [ 26  42 315 137 395   1  75   0   9   0]\n",
      " [  0   0   1   0   0 722   1 213   4  59]\n",
      " [264   8 191  78  78   1 335   0  44   1]\n",
      " [  0   0   0   0   0  17   0 838   0 145]\n",
      " [ 12   3   9   9   1  16   6  28 912   4]\n",
      " [  0   0   1   0   2   8   1  54   3 931]]\n",
      "Accuracy: 0.5227\n",
      "[[105   3  37 330 356   0 155   0  14   0]\n",
      " [  4 625  13 306  49   1   2   0   0   0]\n",
      " [  9   1 104   7 816   0  58   0   5   0]\n",
      " [  9  22  28 721 182   1  33   0   4   0]\n",
      " [  0   2  30  50 859   0  55   0   4   0]\n",
      " [  0   0   0   1   0 718   0 231  36  14]\n",
      " [ 26   3  62 112 602   0 187   0   8   0]\n",
      " [  0   0   0   0   0  46   0 946   0   8]\n",
      " [ 69   2   9   2  22   4  96  13 781   2]\n",
      " [  0   0   0   0   0 269   2 534  14 181]]\n"
     ]
    }
   ],
   "source": [
    "print(\"evaluating\")\n",
    "evaluate(testY, predicted)"
   ]
  },
  {
   "cell_type": "code",
   "execution_count": 0,
   "metadata": {
    "colab": {},
    "colab_type": "code",
    "id": "6qrvG6vWz9nS"
   },
   "outputs": [],
   "source": []
  }
 ],
 "metadata": {
  "colab": {
   "name": "Untitled.ipynb",
   "provenance": []
  },
  "kernelspec": {
   "display_name": "Python 3",
   "language": "python",
   "name": "python3"
  },
  "language_info": {
   "codemirror_mode": {
    "name": "ipython",
    "version": 3
   },
   "file_extension": ".py",
   "mimetype": "text/x-python",
   "name": "python",
   "nbconvert_exporter": "python",
   "pygments_lexer": "ipython3",
   "version": "3.7.4"
  }
 },
 "nbformat": 4,
 "nbformat_minor": 1
}
